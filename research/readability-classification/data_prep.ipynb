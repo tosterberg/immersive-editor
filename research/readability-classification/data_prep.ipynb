{
 "cells": [
  {
   "cell_type": "markdown",
   "source": [
    "# Readability - Data Preparation"
   ],
   "metadata": {
    "collapsed": false
   }
  },
  {
   "cell_type": "code",
   "execution_count": 8,
   "outputs": [
    {
     "name": "stdout",
     "output_type": "stream",
     "text": [
      "Requirement already satisfied: numpy in c:\\users\\tyler\\anaconda3\\lib\\site-packages (1.21.5)\n",
      "Requirement already satisfied: pandas in c:\\users\\tyler\\anaconda3\\lib\\site-packages (1.4.2)\n",
      "Requirement already satisfied: numpy>=1.18.5 in c:\\users\\tyler\\anaconda3\\lib\\site-packages (from pandas) (1.21.5)\n",
      "Requirement already satisfied: pytz>=2020.1 in c:\\users\\tyler\\anaconda3\\lib\\site-packages (from pandas) (2021.3)\n",
      "Requirement already satisfied: python-dateutil>=2.8.1 in c:\\users\\tyler\\anaconda3\\lib\\site-packages (from pandas) (2.8.2)\n",
      "Requirement already satisfied: six>=1.5 in c:\\users\\tyler\\anaconda3\\lib\\site-packages (from python-dateutil>=2.8.1->pandas) (1.16.0)\n",
      "Requirement already satisfied: sklearn in c:\\users\\tyler\\anaconda3\\lib\\site-packages (0.0.post5)\n"
     ]
    }
   ],
   "source": [
    "!pip install numpy\n",
    "!pip install pandas\n",
    "!pip install sklearn"
   ],
   "metadata": {
    "collapsed": false,
    "ExecuteTime": {
     "end_time": "2023-07-04T19:59:57.454477500Z",
     "start_time": "2023-07-04T19:59:48.667769400Z"
    }
   }
  },
  {
   "cell_type": "code",
   "execution_count": 9,
   "outputs": [],
   "source": [
    "import numpy as np\n",
    "import pandas as pd\n",
    "import os\n",
    "from sklearn.model_selection import StratifiedKFold"
   ],
   "metadata": {
    "collapsed": false,
    "ExecuteTime": {
     "end_time": "2023-07-04T19:59:57.475065600Z",
     "start_time": "2023-07-04T19:59:57.455479600Z"
    }
   }
  },
  {
   "cell_type": "code",
   "execution_count": 10,
   "outputs": [],
   "source": [
    "BASE_PATH = os.getcwd()\n",
    "TRAIN_PATH = os.path.join(BASE_PATH, 'data/training/train.csv')\n",
    "CV_OUT_PATH = os.path.join(BASE_PATH, 'data/training/cv')\n",
    "BS_OUT_PATH = os.path.join(BASE_PATH, 'data/training/bs')\n",
    "SEED = 1"
   ],
   "metadata": {
    "collapsed": false,
    "ExecuteTime": {
     "end_time": "2023-07-04T19:59:57.486578200Z",
     "start_time": "2023-07-04T19:59:57.470069600Z"
    }
   }
  },
  {
   "cell_type": "code",
   "execution_count": 11,
   "outputs": [],
   "source": [
    "def prepare_bootstrap(df, n_bags, save_path):\n",
    "  for i in range(n_bags):\n",
    "    bag = df.sample(n=len(df), replace=True)\n",
    "    bag_val = df[~df.id.isin(bag.id)]\n",
    "    out_train = os.path.join(save_path, 'train_fold_' + str(i) + '.csv')\n",
    "    out_val = os.path.join(save_path, 'val_fold_' + str(i) + '.csv')\n",
    "    bag.to_csv(out_train)\n",
    "    bag_val.to_csv(out_val)"
   ],
   "metadata": {
    "collapsed": false,
    "ExecuteTime": {
     "end_time": "2023-07-04T19:59:57.531142700Z",
     "start_time": "2023-07-04T19:59:57.486578200Z"
    }
   }
  },
  {
   "cell_type": "code",
   "execution_count": 12,
   "outputs": [],
   "source": [
    "def get_bin_stratified(df, n_bins=20, n_splits=5):\n",
    "    df['bin'] = pd.cut(df.target, n_bins, labels=[i for i in range(n_bins)])\n",
    "\n",
    "    df['fold'] = np.nan\n",
    "\n",
    "    skf = StratifiedKFold(n_splits=n_splits, random_state=SEED, shuffle=True)\n",
    "    gen_skf = skf.split(df.id, y=df.bin)\n",
    "\n",
    "    for fold, (idx_train, idx_val) in enumerate(gen_skf):\n",
    "        df.loc[idx_val, 'fold'] = fold\n",
    "\n",
    "    df['fold'] = df['fold'].astype('int8')"
   ],
   "metadata": {
    "collapsed": false,
    "ExecuteTime": {
     "end_time": "2023-07-04T19:59:57.541152200Z",
     "start_time": "2023-07-04T19:59:57.503605700Z"
    }
   }
  },
  {
   "cell_type": "code",
   "execution_count": 13,
   "outputs": [],
   "source": [
    "def make_cv_data(df, out_path, kfolds=3):\n",
    "  get_bin_stratified(df, n_splits=kfolds)\n",
    "  for fold in range(kfolds):\n",
    "    print('Fold:', fold)\n",
    "    train_df = df.loc[df.fold!=fold].reset_index(drop=True)\n",
    "    val_df = df.loc[df.fold==fold].reset_index(drop=True)\n",
    "    train_df.to_csv(out_path + '/train_fold_' + str(fold) + '.csv')\n",
    "    val_df.to_csv(out_path + '/val_fold_' + str(fold) + '.csv')"
   ],
   "metadata": {
    "collapsed": false,
    "ExecuteTime": {
     "end_time": "2023-07-04T19:59:57.542154100Z",
     "start_time": "2023-07-04T19:59:57.531142700Z"
    }
   }
  },
  {
   "cell_type": "code",
   "execution_count": 14,
   "outputs": [
    {
     "name": "stdout",
     "output_type": "stream",
     "text": [
      "Fold: 0\n",
      "Fold: 1\n",
      "Fold: 2\n",
      "Fold: 3\n",
      "Fold: 4\n",
      "Fold: 5\n"
     ]
    }
   ],
   "source": [
    "train_df = pd.read_csv(TRAIN_PATH)\n",
    "make_cv_data(df=train_df, out_path=CV_OUT_PATH)"
   ],
   "metadata": {
    "collapsed": false,
    "ExecuteTime": {
     "end_time": "2023-07-04T19:59:57.956162200Z",
     "start_time": "2023-07-04T19:59:57.533149600Z"
    }
   }
  },
  {
   "cell_type": "code",
   "execution_count": 15,
   "outputs": [],
   "source": [
    "train_df = pd.read_csv(TRAIN_PATH)\n",
    "prepare_bootstrap(df=train_df, n_bags=6, save_path=BS_OUT_PATH)"
   ],
   "metadata": {
    "collapsed": false,
    "ExecuteTime": {
     "end_time": "2023-07-04T19:59:58.446797700Z",
     "start_time": "2023-07-04T19:59:57.956162200Z"
    }
   }
  },
  {
   "cell_type": "code",
   "execution_count": 15,
   "outputs": [],
   "source": [],
   "metadata": {
    "collapsed": false,
    "ExecuteTime": {
     "end_time": "2023-07-04T19:59:58.461306800Z",
     "start_time": "2023-07-04T19:59:58.446797700Z"
    }
   }
  }
 ],
 "metadata": {
  "kernelspec": {
   "display_name": "Python 3",
   "language": "python",
   "name": "python3"
  },
  "language_info": {
   "codemirror_mode": {
    "name": "ipython",
    "version": 2
   },
   "file_extension": ".py",
   "mimetype": "text/x-python",
   "name": "python",
   "nbconvert_exporter": "python",
   "pygments_lexer": "ipython2",
   "version": "2.7.6"
  }
 },
 "nbformat": 4,
 "nbformat_minor": 0
}
