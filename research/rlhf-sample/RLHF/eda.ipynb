{
 "cells": [
  {
   "cell_type": "code",
   "execution_count": 1,
   "id": "initial_id",
   "metadata": {
    "collapsed": true,
    "ExecuteTime": {
     "end_time": "2023-08-18T22:00:58.355603100Z",
     "start_time": "2023-08-18T22:00:57.966891700Z"
    }
   },
   "outputs": [
    {
     "name": "stderr",
     "output_type": "stream",
     "text": [
      "[nltk_data] Downloading package wordnet to\n",
      "[nltk_data]     C:\\Users\\Tyler\\AppData\\Roaming\\nltk_data...\n",
      "[nltk_data]   Package wordnet is already up-to-date!\n",
      "[nltk_data] Error loading omw-2.4: Package 'omw-2.4' not found in\n",
      "[nltk_data]     index\n",
      "[nltk_data] Downloading package averaged_perceptron_tagger to\n",
      "[nltk_data]     C:\\Users\\Tyler\\AppData\\Roaming\\nltk_data...\n",
      "[nltk_data]   Package averaged_perceptron_tagger is already up-to-\n",
      "[nltk_data]       date!\n"
     ]
    }
   ],
   "source": [
    "%matplotlib inline\n",
    "import json\n",
    "import pandas as pd\n",
    "from collections import Counter\n",
    "\n",
    "import nltk\n",
    "from nltk.stem import WordNetLemmatizer\n",
    "from nltk.corpus import stopwords\n",
    "from nltk.tag import pos_tag\n",
    "\n",
    "import seaborn as sns\n",
    "import warnings\n",
    "\n",
    "nltk.download('wordnet')\n",
    "nltk.download('omw-2.4')\n",
    "nltk.download('averaged_perceptron_tagger')\n",
    "warnings.filterwarnings(\"ignore\")"
   ]
  },
  {
   "cell_type": "code",
   "execution_count": 2,
   "outputs": [],
   "source": [
    "def parse_inference_data(obj):\n",
    "    reorganized = []\n",
    "    for idx, record in enumerate(obj['dataset']):\n",
    "        reorganized.append(record[str(idx)]['response'])\n",
    "    return { 'dataset': reorganized }"
   ],
   "metadata": {
    "collapsed": false,
    "ExecuteTime": {
     "end_time": "2023-08-18T22:00:58.382810400Z",
     "start_time": "2023-08-18T22:00:58.357107100Z"
    }
   },
   "id": "c2c11914db469f3a"
  },
  {
   "cell_type": "code",
   "execution_count": 3,
   "outputs": [
    {
     "data": {
      "text/plain": "                                          input_sentence  \\\n0      When the young people returned to the ballroom...   \n1      Instead of an interior scene, it was a winter ...   \n2      The numerous palms and evergreens that had dec...   \n3      Also diamond dust had been lightly sprinkled o...   \n4      And this was the game.\\nThe girls were gathere...   \n...                                                  ...   \n21480  So are dogs, cats, cows, horses, frogs, fish, ...   \n21481  Vertebrates can be further divided into mammal...   \n21482  Invertebrates can be divided into arthropods (...   \n21483  There are at least thirty kinds of invertebrat...   \n21484  Vertebrates have a backbone, while invertebrat...   \n\n                                            llm_sentence  \\\n0      When the young people returned to the ballroom...   \n1      Instead of an interior, the floor, covered wit...   \n2      The floor was covered with tiny cotton wads, m...   \n3      At either end of the wall, on the wall, hung a...   \n4      This was the game. The girls were gathered at ...   \n...                                                  ...   \n21480  Animals can be divided into two classes, verte...   \n21481  Animals that have backbone can be divided into...   \n21482  Mollusks, sponges, jellyfish, and a bunch of o...   \n21483  There are at least five kinds of vertebrates, ...   \n21484  Vertebrates have a backbone, however, inverteb...   \n\n                                           rlhf_sentence  \n0      When the young people returned to the ballroom...  \n1      Instead of a winter scene, it was a winter spo...  \n2      The floor was covered with tiny cotton wads, a...  \n3      Also, some Diamond dust had been brought to th...  \n4      This was the game. The girls were gathered at ...  \n...                                                  ...  \n21480  It is divided into three: animals, plants, and...  \n21481  Vertebrates can be divided into: animals, bird...  \n21482  Invertebrates are divided into arthropeds like...  \n21483  There are at least thirty kinds of animals, co...  \n21484  Vertebrates backbone, but invertebrates have n...  \n\n[21485 rows x 3 columns]",
      "text/html": "<div>\n<style scoped>\n    .dataframe tbody tr th:only-of-type {\n        vertical-align: middle;\n    }\n\n    .dataframe tbody tr th {\n        vertical-align: top;\n    }\n\n    .dataframe thead th {\n        text-align: right;\n    }\n</style>\n<table border=\"1\" class=\"dataframe\">\n  <thead>\n    <tr style=\"text-align: right;\">\n      <th></th>\n      <th>input_sentence</th>\n      <th>llm_sentence</th>\n      <th>rlhf_sentence</th>\n    </tr>\n  </thead>\n  <tbody>\n    <tr>\n      <th>0</th>\n      <td>When the young people returned to the ballroom...</td>\n      <td>When the young people returned to the ballroom...</td>\n      <td>When the young people returned to the ballroom...</td>\n    </tr>\n    <tr>\n      <th>1</th>\n      <td>Instead of an interior scene, it was a winter ...</td>\n      <td>Instead of an interior, the floor, covered wit...</td>\n      <td>Instead of a winter scene, it was a winter spo...</td>\n    </tr>\n    <tr>\n      <th>2</th>\n      <td>The numerous palms and evergreens that had dec...</td>\n      <td>The floor was covered with tiny cotton wads, m...</td>\n      <td>The floor was covered with tiny cotton wads, a...</td>\n    </tr>\n    <tr>\n      <th>3</th>\n      <td>Also diamond dust had been lightly sprinkled o...</td>\n      <td>At either end of the wall, on the wall, hung a...</td>\n      <td>Also, some Diamond dust had been brought to th...</td>\n    </tr>\n    <tr>\n      <th>4</th>\n      <td>And this was the game.\\nThe girls were gathere...</td>\n      <td>This was the game. The girls were gathered at ...</td>\n      <td>This was the game. The girls were gathered at ...</td>\n    </tr>\n    <tr>\n      <th>...</th>\n      <td>...</td>\n      <td>...</td>\n      <td>...</td>\n    </tr>\n    <tr>\n      <th>21480</th>\n      <td>So are dogs, cats, cows, horses, frogs, fish, ...</td>\n      <td>Animals can be divided into two classes, verte...</td>\n      <td>It is divided into three: animals, plants, and...</td>\n    </tr>\n    <tr>\n      <th>21481</th>\n      <td>Vertebrates can be further divided into mammal...</td>\n      <td>Animals that have backbone can be divided into...</td>\n      <td>Vertebrates can be divided into: animals, bird...</td>\n    </tr>\n    <tr>\n      <th>21482</th>\n      <td>Invertebrates can be divided into arthropods (...</td>\n      <td>Mollusks, sponges, jellyfish, and a bunch of o...</td>\n      <td>Invertebrates are divided into arthropeds like...</td>\n    </tr>\n    <tr>\n      <th>21483</th>\n      <td>There are at least thirty kinds of invertebrat...</td>\n      <td>There are at least five kinds of vertebrates, ...</td>\n      <td>There are at least thirty kinds of animals, co...</td>\n    </tr>\n    <tr>\n      <th>21484</th>\n      <td>Vertebrates have a backbone, while invertebrat...</td>\n      <td>Vertebrates have a backbone, however, inverteb...</td>\n      <td>Vertebrates backbone, but invertebrates have n...</td>\n    </tr>\n  </tbody>\n</table>\n<p>21485 rows × 3 columns</p>\n</div>"
     },
     "execution_count": 3,
     "metadata": {},
     "output_type": "execute_result"
    }
   ],
   "source": [
    "df = pd.read_json('./data/sentence_dataset.json')\n",
    "\n",
    "llm_file = open('./data/sentence_inferences.json', 'r')\n",
    "llm_json = json.load(llm_file)\n",
    "llm_obj = parse_inference_data(llm_json)\n",
    "llm_df = pd.DataFrame(llm_obj)\n",
    "\n",
    "rlhf_file = open('./data/sentence_rlhf_inferences.json', 'r')\n",
    "rlhf_json = json.load(rlhf_file)\n",
    "rlhf_obj = parse_inference_data(rlhf_json)\n",
    "rlhf_df = pd.DataFrame(rlhf_obj)\n",
    "\n",
    "df = df.rename(columns={'dataset': 'input_sentence'})\n",
    "df['llm_sentence'] = llm_df['dataset'].values\n",
    "df['rlhf_sentence'] = rlhf_df['dataset'].values\n",
    "\n",
    "df\n"
   ],
   "metadata": {
    "collapsed": false,
    "ExecuteTime": {
     "end_time": "2023-08-18T22:00:58.764289200Z",
     "start_time": "2023-08-18T22:00:58.373295Z"
    }
   },
   "id": "240e2a6cc24c99c9"
  },
  {
   "cell_type": "code",
   "execution_count": 4,
   "outputs": [],
   "source": [
    "# Calculate word counts\n",
    "df['input_wc'] =  df.input_sentence.apply(lambda x: len(str(x).split(' ')))\n",
    "df['llm_wc'] =  df.llm_sentence.apply(lambda x: len(str(x).split(' ')))\n",
    "df['rlhf_wc'] =  df.rlhf_sentence.apply(lambda x: len(str(x).split(' ')))\n"
   ],
   "metadata": {
    "collapsed": false,
    "ExecuteTime": {
     "end_time": "2023-08-18T22:00:58.856445400Z",
     "start_time": "2023-08-18T22:00:58.766289Z"
    }
   },
   "id": "5021d2d6d103095"
  },
  {
   "cell_type": "code",
   "execution_count": 5,
   "outputs": [],
   "source": [
    "# Calculate character counts\n",
    "df['input_cc'] =  df.input_sentence.str.len()\n",
    "df['llm_cc'] =  df.llm_sentence.str.len()\n",
    "df['rlhf_cc'] =  df.rlhf_sentence.str.len()\n"
   ],
   "metadata": {
    "collapsed": false,
    "ExecuteTime": {
     "end_time": "2023-08-18T22:00:58.896497400Z",
     "start_time": "2023-08-18T22:00:58.843936100Z"
    }
   },
   "id": "9618a0b3c74916b3"
  },
  {
   "cell_type": "code",
   "execution_count": 6,
   "outputs": [
    {
     "data": {
      "text/plain": "           input_wc        llm_wc       rlhf_wc      input_cc        llm_cc  \\\ncount  21485.000000  21485.000000  21485.000000  21485.000000  21485.000000   \nmean      22.642309     17.302723     17.162206    126.441192     98.785478   \nstd       18.205362     13.800024     11.539175    103.907750     76.882630   \nmin        1.000000      1.000000      1.000000      0.000000      1.000000   \n25%       11.000000      9.000000      9.000000     58.000000     51.000000   \n50%       18.000000     14.000000     15.000000    100.000000     80.000000   \n75%       29.000000     22.000000     22.000000    161.000000    123.000000   \nmax      190.000000    210.000000    138.000000   1181.000000   1117.000000   \n\n            rlhf_cc  \ncount  21485.000000  \nmean      89.775704  \nstd       60.978284  \nmin        0.000000  \n25%       48.000000  \n50%       76.000000  \n75%      116.000000  \nmax      792.000000  ",
      "text/html": "<div>\n<style scoped>\n    .dataframe tbody tr th:only-of-type {\n        vertical-align: middle;\n    }\n\n    .dataframe tbody tr th {\n        vertical-align: top;\n    }\n\n    .dataframe thead th {\n        text-align: right;\n    }\n</style>\n<table border=\"1\" class=\"dataframe\">\n  <thead>\n    <tr style=\"text-align: right;\">\n      <th></th>\n      <th>input_wc</th>\n      <th>llm_wc</th>\n      <th>rlhf_wc</th>\n      <th>input_cc</th>\n      <th>llm_cc</th>\n      <th>rlhf_cc</th>\n    </tr>\n  </thead>\n  <tbody>\n    <tr>\n      <th>count</th>\n      <td>21485.000000</td>\n      <td>21485.000000</td>\n      <td>21485.000000</td>\n      <td>21485.000000</td>\n      <td>21485.000000</td>\n      <td>21485.000000</td>\n    </tr>\n    <tr>\n      <th>mean</th>\n      <td>22.642309</td>\n      <td>17.302723</td>\n      <td>17.162206</td>\n      <td>126.441192</td>\n      <td>98.785478</td>\n      <td>89.775704</td>\n    </tr>\n    <tr>\n      <th>std</th>\n      <td>18.205362</td>\n      <td>13.800024</td>\n      <td>11.539175</td>\n      <td>103.907750</td>\n      <td>76.882630</td>\n      <td>60.978284</td>\n    </tr>\n    <tr>\n      <th>min</th>\n      <td>1.000000</td>\n      <td>1.000000</td>\n      <td>1.000000</td>\n      <td>0.000000</td>\n      <td>1.000000</td>\n      <td>0.000000</td>\n    </tr>\n    <tr>\n      <th>25%</th>\n      <td>11.000000</td>\n      <td>9.000000</td>\n      <td>9.000000</td>\n      <td>58.000000</td>\n      <td>51.000000</td>\n      <td>48.000000</td>\n    </tr>\n    <tr>\n      <th>50%</th>\n      <td>18.000000</td>\n      <td>14.000000</td>\n      <td>15.000000</td>\n      <td>100.000000</td>\n      <td>80.000000</td>\n      <td>76.000000</td>\n    </tr>\n    <tr>\n      <th>75%</th>\n      <td>29.000000</td>\n      <td>22.000000</td>\n      <td>22.000000</td>\n      <td>161.000000</td>\n      <td>123.000000</td>\n      <td>116.000000</td>\n    </tr>\n    <tr>\n      <th>max</th>\n      <td>190.000000</td>\n      <td>210.000000</td>\n      <td>138.000000</td>\n      <td>1181.000000</td>\n      <td>1117.000000</td>\n      <td>792.000000</td>\n    </tr>\n  </tbody>\n</table>\n</div>"
     },
     "execution_count": 6,
     "metadata": {},
     "output_type": "execute_result"
    }
   ],
   "source": [
    "df.describe()"
   ],
   "metadata": {
    "collapsed": false,
    "ExecuteTime": {
     "end_time": "2023-08-18T22:00:58.916528600Z",
     "start_time": "2023-08-18T22:00:58.875471400Z"
    }
   },
   "id": "e3a50114712c2a23"
  },
  {
   "cell_type": "code",
   "execution_count": 7,
   "outputs": [
    {
     "name": "stdout",
     "output_type": "stream",
     "text": [
      "0.76 0.76\n"
     ]
    }
   ],
   "source": [
    "desc = df.describe()\n",
    "# Calculate mean word count reduction (mwcr)\n",
    "llm_mwcr = desc.llm_wc[1] / desc.input_wc[1]\n",
    "rlhf_mwcr = desc.rlhf_wc[1] / desc.input_wc[1]\n",
    "\n",
    "print(f'{llm_mwcr:.2f} {rlhf_mwcr:.2f}')"
   ],
   "metadata": {
    "collapsed": false,
    "ExecuteTime": {
     "end_time": "2023-08-18T22:00:58.931049100Z",
     "start_time": "2023-08-18T22:00:58.905009600Z"
    }
   },
   "id": "869b39069015c7cb"
  },
  {
   "cell_type": "code",
   "execution_count": 8,
   "outputs": [
    {
     "name": "stdout",
     "output_type": "stream",
     "text": [
      "5.58 5.71 5.23\n"
     ]
    }
   ],
   "source": [
    "desc = df.describe()\n",
    "# Calculate mean characters per word (mcpw)\n",
    "input_mcpw = desc.input_cc[1] / desc.input_wc[1]\n",
    "llm_mcpw = desc.llm_cc[1] / desc.llm_wc[1]\n",
    "rlhf_mcpw = desc.rlhf_cc[1] / desc.rlhf_wc[1]\n",
    "\n",
    "print(f'{input_mcpw:.2f} {llm_mcpw:.2f} {rlhf_mcpw:.2f}')"
   ],
   "metadata": {
    "collapsed": false,
    "ExecuteTime": {
     "end_time": "2023-08-18T22:00:58.941565500Z",
     "start_time": "2023-08-18T22:00:58.921531200Z"
    }
   },
   "id": "c8240d2377d9bdfe"
  },
  {
   "cell_type": "code",
   "execution_count": 9,
   "outputs": [
    {
     "data": {
      "text/plain": "           input_wc        llm_wc       rlhf_wc      input_cc        llm_cc  \\\ncount  21485.000000  21485.000000  21485.000000  21485.000000  21485.000000   \nmean      22.642309     17.302723     17.162206    126.441192     98.785478   \nstd       18.205362     13.800024     11.539175    103.907750     76.882630   \nmin        1.000000      1.000000      1.000000      0.000000      1.000000   \n25%       11.000000      9.000000      9.000000     58.000000     51.000000   \n50%       18.000000     14.000000     15.000000    100.000000     80.000000   \n75%       29.000000     22.000000     22.000000    161.000000    123.000000   \nmax      190.000000    210.000000    138.000000   1181.000000   1117.000000   \n\n            rlhf_cc      input_sw        llm_sw       rlhf_sw  \ncount  21485.000000  21485.000000  21485.000000  21485.000000  \nmean      89.775704      9.981708      7.298860      7.987014  \nstd       60.978284      9.056479      6.816251      6.184095  \nmin        0.000000      0.000000      0.000000      0.000000  \n25%       48.000000      4.000000      3.000000      4.000000  \n50%       76.000000      8.000000      6.000000      7.000000  \n75%      116.000000     13.000000      9.000000     11.000000  \nmax      792.000000     99.000000    114.000000     73.000000  ",
      "text/html": "<div>\n<style scoped>\n    .dataframe tbody tr th:only-of-type {\n        vertical-align: middle;\n    }\n\n    .dataframe tbody tr th {\n        vertical-align: top;\n    }\n\n    .dataframe thead th {\n        text-align: right;\n    }\n</style>\n<table border=\"1\" class=\"dataframe\">\n  <thead>\n    <tr style=\"text-align: right;\">\n      <th></th>\n      <th>input_wc</th>\n      <th>llm_wc</th>\n      <th>rlhf_wc</th>\n      <th>input_cc</th>\n      <th>llm_cc</th>\n      <th>rlhf_cc</th>\n      <th>input_sw</th>\n      <th>llm_sw</th>\n      <th>rlhf_sw</th>\n    </tr>\n  </thead>\n  <tbody>\n    <tr>\n      <th>count</th>\n      <td>21485.000000</td>\n      <td>21485.000000</td>\n      <td>21485.000000</td>\n      <td>21485.000000</td>\n      <td>21485.000000</td>\n      <td>21485.000000</td>\n      <td>21485.000000</td>\n      <td>21485.000000</td>\n      <td>21485.000000</td>\n    </tr>\n    <tr>\n      <th>mean</th>\n      <td>22.642309</td>\n      <td>17.302723</td>\n      <td>17.162206</td>\n      <td>126.441192</td>\n      <td>98.785478</td>\n      <td>89.775704</td>\n      <td>9.981708</td>\n      <td>7.298860</td>\n      <td>7.987014</td>\n    </tr>\n    <tr>\n      <th>std</th>\n      <td>18.205362</td>\n      <td>13.800024</td>\n      <td>11.539175</td>\n      <td>103.907750</td>\n      <td>76.882630</td>\n      <td>60.978284</td>\n      <td>9.056479</td>\n      <td>6.816251</td>\n      <td>6.184095</td>\n    </tr>\n    <tr>\n      <th>min</th>\n      <td>1.000000</td>\n      <td>1.000000</td>\n      <td>1.000000</td>\n      <td>0.000000</td>\n      <td>1.000000</td>\n      <td>0.000000</td>\n      <td>0.000000</td>\n      <td>0.000000</td>\n      <td>0.000000</td>\n    </tr>\n    <tr>\n      <th>25%</th>\n      <td>11.000000</td>\n      <td>9.000000</td>\n      <td>9.000000</td>\n      <td>58.000000</td>\n      <td>51.000000</td>\n      <td>48.000000</td>\n      <td>4.000000</td>\n      <td>3.000000</td>\n      <td>4.000000</td>\n    </tr>\n    <tr>\n      <th>50%</th>\n      <td>18.000000</td>\n      <td>14.000000</td>\n      <td>15.000000</td>\n      <td>100.000000</td>\n      <td>80.000000</td>\n      <td>76.000000</td>\n      <td>8.000000</td>\n      <td>6.000000</td>\n      <td>7.000000</td>\n    </tr>\n    <tr>\n      <th>75%</th>\n      <td>29.000000</td>\n      <td>22.000000</td>\n      <td>22.000000</td>\n      <td>161.000000</td>\n      <td>123.000000</td>\n      <td>116.000000</td>\n      <td>13.000000</td>\n      <td>9.000000</td>\n      <td>11.000000</td>\n    </tr>\n    <tr>\n      <th>max</th>\n      <td>190.000000</td>\n      <td>210.000000</td>\n      <td>138.000000</td>\n      <td>1181.000000</td>\n      <td>1117.000000</td>\n      <td>792.000000</td>\n      <td>99.000000</td>\n      <td>114.000000</td>\n      <td>73.000000</td>\n    </tr>\n  </tbody>\n</table>\n</div>"
     },
     "execution_count": 9,
     "metadata": {},
     "output_type": "execute_result"
    }
   ],
   "source": [
    "stop = stopwords.words('english')\n",
    "\n",
    "df['input_sw'] = df.input_sentence.apply(lambda x: len([x for x in x.split() if x in stop]))\n",
    "df['llm_sw'] = df.llm_sentence.apply(lambda x: len([x for x in x.split() if x in stop]))\n",
    "df['rlhf_sw'] = df.rlhf_sentence.apply(lambda x: len([x for x in x.split() if x in stop]))\n",
    "\n",
    "df.describe()"
   ],
   "metadata": {
    "collapsed": false,
    "ExecuteTime": {
     "end_time": "2023-08-18T22:01:00.512315Z",
     "start_time": "2023-08-18T22:00:58.937561400Z"
    }
   },
   "id": "2ff7cc5492fa4623"
  },
  {
   "cell_type": "code",
   "execution_count": 10,
   "outputs": [
    {
     "name": "stdout",
     "output_type": "stream",
     "text": [
      "44.08 42.18 46.54\n"
     ]
    }
   ],
   "source": [
    "desc = df.describe()\n",
    "# Calculate percent stopwords of words in sentences \n",
    "input_swc = desc.input_sw[1] / desc.input_wc[1]\n",
    "llm_swc = desc.llm_sw[1] / desc.llm_wc[1]\n",
    "rlhf_swc = desc.rlhf_sw[1] / desc.rlhf_wc[1]\n",
    "\n",
    "print(f'{input_swc * 100:.2f} {llm_swc * 100:.2f} {rlhf_swc * 100:.2f}')"
   ],
   "metadata": {
    "collapsed": false,
    "ExecuteTime": {
     "end_time": "2023-08-18T22:01:00.568337800Z",
     "start_time": "2023-08-18T22:01:00.508279700Z"
    }
   },
   "id": "36b866620db85726"
  },
  {
   "cell_type": "code",
   "execution_count": 11,
   "outputs": [
    {
     "data": {
      "text/plain": "<Axes: xlabel='input_wc', ylabel='Count'>"
     },
     "execution_count": 11,
     "metadata": {},
     "output_type": "execute_result"
    },
    {
     "data": {
      "text/plain": "<Figure size 432x288 with 1 Axes>",
      "image/png": "[encoded data removed]"
     },
     "metadata": {
      "needs_background": "light"
     },
     "output_type": "display_data"
    }
   ],
   "source": [
    "sns.histplot(data=df, x='input_wc')"
   ],
   "metadata": {
    "collapsed": false,
    "ExecuteTime": {
     "end_time": "2023-08-18T22:01:00.873023100Z",
     "start_time": "2023-08-18T22:01:00.539340500Z"
    }
   },
   "id": "c5e667d52404cf0b"
  },
  {
   "cell_type": "code",
   "execution_count": 12,
   "outputs": [
    {
     "data": {
      "text/plain": "<Axes: xlabel='llm_wc', ylabel='Count'>"
     },
     "execution_count": 12,
     "metadata": {},
     "output_type": "execute_result"
    },
    {
     "data": {
      "text/plain": "<Figure size 432x288 with 1 Axes>",
      "image/png": "[encoded data removed]"
     },
     "metadata": {
      "needs_background": "light"
     },
     "output_type": "display_data"
    }
   ],
   "source": [
    "sns.histplot(data=df, x='llm_wc')"
   ],
   "metadata": {
    "collapsed": false,
    "ExecuteTime": {
     "end_time": "2023-08-18T22:01:01.300548100Z",
     "start_time": "2023-08-18T22:01:00.871024Z"
    }
   },
   "id": "d3f7eb31ae9ae5ea"
  },
  {
   "cell_type": "code",
   "execution_count": 13,
   "outputs": [
    {
     "data": {
      "text/plain": "<Axes: xlabel='rlhf_wc', ylabel='Count'>"
     },
     "execution_count": 13,
     "metadata": {},
     "output_type": "execute_result"
    },
    {
     "data": {
      "text/plain": "<Figure size 432x288 with 1 Axes>",
      "image/png": "[encoded data removed]"
     },
     "metadata": {
      "needs_background": "light"
     },
     "output_type": "display_data"
    }
   ],
   "source": [
    "sns.histplot(data=df, x='rlhf_wc')"
   ],
   "metadata": {
    "collapsed": false,
    "ExecuteTime": {
     "end_time": "2023-08-18T22:01:01.605547900Z",
     "start_time": "2023-08-18T22:01:01.293044300Z"
    }
   },
   "id": "92dd288c131667a7"
  },
  {
   "cell_type": "code",
   "execution_count": 14,
   "outputs": [
    {
     "data": {
      "text/plain": "                                          input_sentence  \\\n0      When the young people returned to the ballroom...   \n1      Instead of an interior scene, it was a winter ...   \n2      The numerous palms and evergreens that had dec...   \n3      Also diamond dust had been lightly sprinkled o...   \n4      And this was the game.\\nThe girls were gathere...   \n...                                                  ...   \n21480  So are dogs, cats, cows, horses, frogs, fish, ...   \n21481  Vertebrates can be further divided into mammal...   \n21482  Invertebrates can be divided into arthropods (...   \n21483  There are at least thirty kinds of invertebrat...   \n21484  Vertebrates have a backbone, while invertebrat...   \n\n                                            llm_sentence  \\\n0      When the young people returned to the ballroom...   \n1      Instead of an interior, the floor, covered wit...   \n2      The floor was covered with tiny cotton wads, m...   \n3      At either end of the wall, on the wall, hung a...   \n4      This was the game. The girls were gathered at ...   \n...                                                  ...   \n21480  Animals can be divided into two classes, verte...   \n21481  Animals that have backbone can be divided into...   \n21482  Mollusks, sponges, jellyfish, and a bunch of o...   \n21483  There are at least five kinds of vertebrates, ...   \n21484  Vertebrates have a backbone, however, inverteb...   \n\n                                           rlhf_sentence  input_wc  llm_wc  \\\n0      When the young people returned to the ballroom...        14      15   \n1      Instead of a winter scene, it was a winter spo...        31      25   \n2      The floor was covered with tiny cotton wads, a...        22      22   \n3      Also, some Diamond dust had been brought to th...        43      43   \n4      This was the game. The girls were gathered at ...        34      31   \n...                                                  ...       ...     ...   \n21480  It is divided into three: animals, plants, and...        23      10   \n21481  Vertebrates can be divided into: animals, bird...        12      14   \n21482  Invertebrates are divided into arthropeds like...        26       9   \n21483  There are at least thirty kinds of animals, co...        15      14   \n21484  Vertebrates backbone, but invertebrates have n...         8       8   \n\n       rlhf_wc  input_cc  llm_cc  rlhf_cc  input_sw  llm_sw  rlhf_sw  \\\n0           13        91      81       77         5       6        6   \n1           41       184     154      203        13       9       19   \n2           19       130     127      106         9       9        9   \n3           42       245     263      231        19      18       23   \n4           33       164     145      157        18      16       16   \n...        ...       ...     ...      ...       ...     ...      ...   \n21480        9       138      75       55         9       4        3   \n21481       10        86      97       69         5       6        3   \n21482       16       177      65      114         9       4        5   \n21483       15        91      92       86         6       5        6   \n21484        7        56      65       56         4       3        3   \n\n                                             clean_input  \\\n0      young people returned ballroom presented decid...   \n1      instead interior scene winter landscape floor ...   \n2      numerous palms evergreens decorated room powde...   \n3      also diamond dust lightly sprinkled glittering...   \n4      game girls gathered one end room boys one end ...   \n...                                                  ...   \n21480  dogs cats cows horses frogs fish animals divid...   \n21481  vertebrates divided mammals fish birds reptile...   \n21482  invertebrates divided arthropods like insects ...   \n21483  least thirty kinds invertebrates compared five...   \n21484                 vertebrates backbone invertebrates   \n\n                                               clean_llm  \\\n0      young people returned ballroom different appea...   \n1      instead interior floor covered snowwhite canva...   \n2      floor covered tiny cotton wads much like snow ...   \n3      either end wall wall hung beautiful bearskin r...   \n4      game girls gathered one end room boys game pla...   \n...                                                  ...   \n21480  animals divided two classes vertebrates invert...   \n21481  animals backbone divided mammals fish reptiles...   \n21482         mollusks sponges jellyfish bunch subgroups   \n21483  least five kinds vertebrates compared thirty k...   \n21484         vertebrates backbone however invertebrates   \n\n                                              clean_rlhf  \n0      young people returned ballroom different appea...  \n1      instead winter scene winter sports world floor...  \n2      floor covered tiny cotton wads fallen palm tre...  \n3      also diamond dust brought struggled found glit...  \n4      game girls gathered one end room boys one end ...  \n...                                                  ...  \n21480              divided three animals plants protists  \n21481  vertebrates divided animals birds reptile ambeans  \n21482  invertebrates divided arthropeds like insects ...  \n21483  least thirty kinds animals compared five kinds...  \n21484        vertebrates backbone invertebrates backbone  \n\n[21485 rows x 15 columns]",
      "text/html": "<div>\n<style scoped>\n    .dataframe tbody tr th:only-of-type {\n        vertical-align: middle;\n    }\n\n    .dataframe tbody tr th {\n        vertical-align: top;\n    }\n\n    .dataframe thead th {\n        text-align: right;\n    }\n</style>\n<table border=\"1\" class=\"dataframe\">\n  <thead>\n    <tr style=\"text-align: right;\">\n      <th></th>\n      <th>input_sentence</th>\n      <th>llm_sentence</th>\n      <th>rlhf_sentence</th>\n      <th>input_wc</th>\n      <th>llm_wc</th>\n      <th>rlhf_wc</th>\n      <th>input_cc</th>\n      <th>llm_cc</th>\n      <th>rlhf_cc</th>\n      <th>input_sw</th>\n      <th>llm_sw</th>\n      <th>rlhf_sw</th>\n      <th>clean_input</th>\n      <th>clean_llm</th>\n      <th>clean_rlhf</th>\n    </tr>\n  </thead>\n  <tbody>\n    <tr>\n      <th>0</th>\n      <td>When the young people returned to the ballroom...</td>\n      <td>When the young people returned to the ballroom...</td>\n      <td>When the young people returned to the ballroom...</td>\n      <td>14</td>\n      <td>15</td>\n      <td>13</td>\n      <td>91</td>\n      <td>81</td>\n      <td>77</td>\n      <td>5</td>\n      <td>6</td>\n      <td>6</td>\n      <td>young people returned ballroom presented decid...</td>\n      <td>young people returned ballroom different appea...</td>\n      <td>young people returned ballroom different appea...</td>\n    </tr>\n    <tr>\n      <th>1</th>\n      <td>Instead of an interior scene, it was a winter ...</td>\n      <td>Instead of an interior, the floor, covered wit...</td>\n      <td>Instead of a winter scene, it was a winter spo...</td>\n      <td>31</td>\n      <td>25</td>\n      <td>41</td>\n      <td>184</td>\n      <td>154</td>\n      <td>203</td>\n      <td>13</td>\n      <td>9</td>\n      <td>19</td>\n      <td>instead interior scene winter landscape floor ...</td>\n      <td>instead interior floor covered snowwhite canva...</td>\n      <td>instead winter scene winter sports world floor...</td>\n    </tr>\n    <tr>\n      <th>2</th>\n      <td>The numerous palms and evergreens that had dec...</td>\n      <td>The floor was covered with tiny cotton wads, m...</td>\n      <td>The floor was covered with tiny cotton wads, a...</td>\n      <td>22</td>\n      <td>22</td>\n      <td>19</td>\n      <td>130</td>\n      <td>127</td>\n      <td>106</td>\n      <td>9</td>\n      <td>9</td>\n      <td>9</td>\n      <td>numerous palms evergreens decorated room powde...</td>\n      <td>floor covered tiny cotton wads much like snow ...</td>\n      <td>floor covered tiny cotton wads fallen palm tre...</td>\n    </tr>\n    <tr>\n      <th>3</th>\n      <td>Also diamond dust had been lightly sprinkled o...</td>\n      <td>At either end of the wall, on the wall, hung a...</td>\n      <td>Also, some Diamond dust had been brought to th...</td>\n      <td>43</td>\n      <td>43</td>\n      <td>42</td>\n      <td>245</td>\n      <td>263</td>\n      <td>231</td>\n      <td>19</td>\n      <td>18</td>\n      <td>23</td>\n      <td>also diamond dust lightly sprinkled glittering...</td>\n      <td>either end wall wall hung beautiful bearskin r...</td>\n      <td>also diamond dust brought struggled found glit...</td>\n    </tr>\n    <tr>\n      <th>4</th>\n      <td>And this was the game.\\nThe girls were gathere...</td>\n      <td>This was the game. The girls were gathered at ...</td>\n      <td>This was the game. The girls were gathered at ...</td>\n      <td>34</td>\n      <td>31</td>\n      <td>33</td>\n      <td>164</td>\n      <td>145</td>\n      <td>157</td>\n      <td>18</td>\n      <td>16</td>\n      <td>16</td>\n      <td>game girls gathered one end room boys one end ...</td>\n      <td>game girls gathered one end room boys game pla...</td>\n      <td>game girls gathered one end room boys one end ...</td>\n    </tr>\n    <tr>\n      <th>...</th>\n      <td>...</td>\n      <td>...</td>\n      <td>...</td>\n      <td>...</td>\n      <td>...</td>\n      <td>...</td>\n      <td>...</td>\n      <td>...</td>\n      <td>...</td>\n      <td>...</td>\n      <td>...</td>\n      <td>...</td>\n      <td>...</td>\n      <td>...</td>\n      <td>...</td>\n    </tr>\n    <tr>\n      <th>21480</th>\n      <td>So are dogs, cats, cows, horses, frogs, fish, ...</td>\n      <td>Animals can be divided into two classes, verte...</td>\n      <td>It is divided into three: animals, plants, and...</td>\n      <td>23</td>\n      <td>10</td>\n      <td>9</td>\n      <td>138</td>\n      <td>75</td>\n      <td>55</td>\n      <td>9</td>\n      <td>4</td>\n      <td>3</td>\n      <td>dogs cats cows horses frogs fish animals divid...</td>\n      <td>animals divided two classes vertebrates invert...</td>\n      <td>divided three animals plants protists</td>\n    </tr>\n    <tr>\n      <th>21481</th>\n      <td>Vertebrates can be further divided into mammal...</td>\n      <td>Animals that have backbone can be divided into...</td>\n      <td>Vertebrates can be divided into: animals, bird...</td>\n      <td>12</td>\n      <td>14</td>\n      <td>10</td>\n      <td>86</td>\n      <td>97</td>\n      <td>69</td>\n      <td>5</td>\n      <td>6</td>\n      <td>3</td>\n      <td>vertebrates divided mammals fish birds reptile...</td>\n      <td>animals backbone divided mammals fish reptiles...</td>\n      <td>vertebrates divided animals birds reptile ambeans</td>\n    </tr>\n    <tr>\n      <th>21482</th>\n      <td>Invertebrates can be divided into arthropods (...</td>\n      <td>Mollusks, sponges, jellyfish, and a bunch of o...</td>\n      <td>Invertebrates are divided into arthropeds like...</td>\n      <td>26</td>\n      <td>9</td>\n      <td>16</td>\n      <td>177</td>\n      <td>65</td>\n      <td>114</td>\n      <td>9</td>\n      <td>4</td>\n      <td>5</td>\n      <td>invertebrates divided arthropods like insects ...</td>\n      <td>mollusks sponges jellyfish bunch subgroups</td>\n      <td>invertebrates divided arthropeds like insects ...</td>\n    </tr>\n    <tr>\n      <th>21483</th>\n      <td>There are at least thirty kinds of invertebrat...</td>\n      <td>There are at least five kinds of vertebrates, ...</td>\n      <td>There are at least thirty kinds of animals, co...</td>\n      <td>15</td>\n      <td>14</td>\n      <td>15</td>\n      <td>91</td>\n      <td>92</td>\n      <td>86</td>\n      <td>6</td>\n      <td>5</td>\n      <td>6</td>\n      <td>least thirty kinds invertebrates compared five...</td>\n      <td>least five kinds vertebrates compared thirty k...</td>\n      <td>least thirty kinds animals compared five kinds...</td>\n    </tr>\n    <tr>\n      <th>21484</th>\n      <td>Vertebrates have a backbone, while invertebrat...</td>\n      <td>Vertebrates have a backbone, however, inverteb...</td>\n      <td>Vertebrates backbone, but invertebrates have n...</td>\n      <td>8</td>\n      <td>8</td>\n      <td>7</td>\n      <td>56</td>\n      <td>65</td>\n      <td>56</td>\n      <td>4</td>\n      <td>3</td>\n      <td>3</td>\n      <td>vertebrates backbone invertebrates</td>\n      <td>vertebrates backbone however invertebrates</td>\n      <td>vertebrates backbone invertebrates backbone</td>\n    </tr>\n  </tbody>\n</table>\n<p>21485 rows × 15 columns</p>\n</div>"
     },
     "execution_count": 14,
     "metadata": {},
     "output_type": "execute_result"
    }
   ],
   "source": [
    "import string\n",
    "\n",
    "def clean_sentence(dataframe, input_col_name, output_col_name):\n",
    "    target = getattr(dataframe, input_col_name)\n",
    "    dataframe[output_col_name] = target.apply(lambda x: \" \".join(x.lower() for x in x.split()))\n",
    "    output = getattr(dataframe, output_col_name)\n",
    "    output = output.str.replace('[^\\w\\s]','')\n",
    "    output  = output.str.replace('\\d+','')\n",
    "    output  = output.apply(lambda x: ''.join(char for char in x if char not in string.punctuation))\n",
    "    output = output.apply(lambda x: ' '.join(w for w in x.split() if w not in stop))\n",
    "    return output\n",
    "\n",
    "df['clean_input'] = clean_sentence(df, 'input_sentence', 'clean_input')\n",
    "df['clean_llm'] = clean_sentence(df, 'llm_sentence', 'clean_llm')\n",
    "df['clean_rlhf'] = clean_sentence(df, 'rlhf_sentence', 'clean_rlhf')\n",
    "\n",
    "df"
   ],
   "metadata": {
    "collapsed": false,
    "ExecuteTime": {
     "end_time": "2023-08-18T22:01:04.517111200Z",
     "start_time": "2023-08-18T22:01:01.606548300Z"
    }
   },
   "id": "b714ac5eb94405e7"
  },
  {
   "cell_type": "code",
   "execution_count": 15,
   "outputs": [],
   "source": [
    "# token frequency analysis\n",
    "input_tokens = ' '.join(df.clean_input).split()\n",
    "llm_tokens = ' '.join(df.clean_llm).split()\n",
    "rlhf_tokens = ' '.join(df.clean_rlhf).split()\n"
   ],
   "metadata": {
    "collapsed": false,
    "ExecuteTime": {
     "end_time": "2023-08-18T22:01:04.588664400Z",
     "start_time": "2023-08-18T22:01:04.513603200Z"
    }
   },
   "id": "dcaf800706d86729"
  },
  {
   "cell_type": "code",
   "execution_count": 16,
   "outputs": [
    {
     "data": {
      "text/plain": "29074"
     },
     "execution_count": 16,
     "metadata": {},
     "output_type": "execute_result"
    }
   ],
   "source": [
    "input_freq = pd.Series(input_tokens).value_counts().to_dict()\n",
    "llm_freq = pd.Series(llm_tokens).value_counts().to_dict()\n",
    "rlhf_freq = pd.Series(rlhf_tokens).value_counts().to_dict()\n",
    "\n",
    "agg = list()\n",
    "agg.append(list(input_freq.items())[:10])\n",
    "agg.append(list(llm_freq.items())[:10])\n",
    "agg.append(list(rlhf_freq.items())[:10])\n",
    "\n",
    "input_tokens = sorted(list(set(input_tokens)))\n",
    "llm_tokens = sorted(list(set(llm_tokens)))\n",
    "rlhf_tokens = sorted(list(set(rlhf_tokens)))\n",
    "\n",
    "\n",
    "len(input_tokens)\n"
   ],
   "metadata": {
    "collapsed": false,
    "ExecuteTime": {
     "end_time": "2023-08-18T22:01:04.772947400Z",
     "start_time": "2023-08-18T22:01:04.560583600Z"
    }
   },
   "id": "b048e5026d95df6c"
  },
  {
   "cell_type": "code",
   "execution_count": 17,
   "outputs": [],
   "source": [
    "# Tokens in input but not in output\n",
    "\n",
    "def token_missing_list(a, b):\n",
    "    removed_tokens = []\n",
    "    ptr = 0\n",
    "    for token in a:\n",
    "        if ptr >= len(b):\n",
    "            removed_tokens.append(token)\n",
    "            continue\n",
    "        if token == b[ptr]:\n",
    "            ptr += 1\n",
    "            continue\n",
    "        if sorted([token, b[ptr]])[0] == token:\n",
    "            removed_tokens.append(token)\n",
    "        ptr += 1\n",
    "    return removed_tokens\n",
    "\n",
    "missing_llm = token_missing_list(input_tokens, llm_tokens)\n",
    "missing_after_training = token_missing_list(llm_tokens, rlhf_tokens)\n",
    "missing_rlhf = token_missing_list(input_tokens, rlhf_tokens)\n",
    "    "
   ],
   "metadata": {
    "collapsed": false,
    "ExecuteTime": {
     "end_time": "2023-08-18T22:01:04.819839900Z",
     "start_time": "2023-08-18T22:01:04.767439100Z"
    }
   },
   "id": "a8c7682c82bb4e53"
  },
  {
   "cell_type": "code",
   "execution_count": 18,
   "outputs": [],
   "source": [
    "\n",
    "def lemmatize_sentence(dataframe, input_col_name):\n",
    "    wordnet_lemmatizer = WordNetLemmatizer()\n",
    "    target = getattr(dataframe, input_col_name)\n",
    "    return target.apply(lambda x: \" \".join(wordnet_lemmatizer.lemmatize(w) for w in x.split()))\n",
    "\n",
    "df['lemma_input'] = lemmatize_sentence(df, 'clean_input')\n",
    "df['lemma_llm'] = lemmatize_sentence(df, 'clean_llm')\n",
    "df['lemma_rlhf'] = lemmatize_sentence(df, 'clean_rlhf')\n",
    "\n"
   ],
   "metadata": {
    "collapsed": false,
    "ExecuteTime": {
     "end_time": "2023-08-18T22:01:07.759522100Z",
     "start_time": "2023-08-18T22:01:04.812310600Z"
    }
   },
   "id": "af2588b696e0669d"
  },
  {
   "cell_type": "code",
   "execution_count": 19,
   "outputs": [
    {
     "data": {
      "text/plain": "25344"
     },
     "execution_count": 19,
     "metadata": {},
     "output_type": "execute_result"
    }
   ],
   "source": [
    "# token frequency analysis\n",
    "input_lemma_tokens = ' '.join(df.lemma_input).split()\n",
    "llm_lemma_tokens = ' '.join(df.lemma_llm).split()\n",
    "rlhf_lemma_tokens = ' '.join(df.lemma_rlhf).split()\n",
    "\n",
    "input_lemma_freq = pd.Series(' '.join(df.lemma_input).split()).value_counts().to_dict()\n",
    "llm_lemma_freq = pd.Series(' '.join(df.lemma_llm).split()).value_counts().to_dict()\n",
    "rlhf_lemma_freq = pd.Series(' '.join(df.lemma_rlhf).split()).value_counts().to_dict()\n",
    "\n",
    "agg = list()\n",
    "agg.append(list(input_lemma_freq.items())[:10])\n",
    "agg.append(list(llm_lemma_freq.items())[:10])\n",
    "agg.append(list(rlhf_lemma_freq.items())[:10])\n",
    "agg\n",
    "\n",
    "input_lemma_tokens = sorted(list(set(input_lemma_tokens)))\n",
    "llm_lemma_tokens = sorted(list(set(llm_lemma_tokens)))\n",
    "rlhf_lemma_tokens = sorted(list(set(rlhf_lemma_tokens)))\n",
    "# Tokens in input but not in output\n",
    "\n",
    "def token_missing_list(a, b):\n",
    "    removed_tokens = []\n",
    "    ptr = 0\n",
    "    for token in a:\n",
    "        if ptr >= len(b):\n",
    "            removed_tokens.append(token)\n",
    "            continue\n",
    "        if token == b[ptr]:\n",
    "            ptr += 1\n",
    "            continue\n",
    "        if sorted([token, b[ptr]])[0] == token:\n",
    "            removed_tokens.append(token)\n",
    "        ptr += 1\n",
    "    return removed_tokens\n",
    "\n",
    "\n",
    "missing_lemma_llm = token_missing_list(input_lemma_tokens, llm_lemma_tokens)\n",
    "missing_lemma_after_training = token_missing_list(llm_lemma_tokens, rlhf_lemma_tokens)\n",
    "missing_lemma_rlhf = token_missing_list(input_lemma_tokens, rlhf_lemma_tokens)\n",
    "\n",
    "len(input_lemma_tokens)"
   ],
   "metadata": {
    "collapsed": false,
    "ExecuteTime": {
     "end_time": "2023-08-18T22:01:08.062051600Z",
     "start_time": "2023-08-18T22:01:07.779716800Z"
    }
   },
   "id": "63996aee95d9fc95"
  },
  {
   "cell_type": "code",
   "execution_count": 20,
   "outputs": [],
   "source": [
    "# creating the ngrams\n",
    "def get_ngrams(df_column, func='bigrams'):\n",
    "    run = getattr(nltk, func)\n",
    "    ngrams = run(' '.join(df_column).split())\n",
    "    freq_ngrams = pd.Series(ngrams).value_counts().to_dict()\n",
    "    return list(freq_ngrams.items())"
   ],
   "metadata": {
    "collapsed": false,
    "ExecuteTime": {
     "end_time": "2023-08-18T22:01:08.105617700Z",
     "start_time": "2023-08-18T22:01:08.063563Z"
    }
   },
   "id": "6a74e073aeb86e05"
  },
  {
   "cell_type": "code",
   "execution_count": 21,
   "outputs": [
    {
     "name": "stdout",
     "output_type": "stream",
     "text": [
      "216225\n"
     ]
    },
    {
     "data": {
      "text/plain": "[(('one', 'day'), 164),\n (('united', 'states'), 100),\n (('years', 'ago'), 77),\n (('could', 'see'), 58),\n (('long', 'time'), 57),\n (('every', 'day'), 57),\n (('little', 'girl'), 55),\n (('years', 'old'), 55),\n (('th', 'century'), 55),\n (('new', 'york'), 46)]"
     },
     "execution_count": 21,
     "metadata": {},
     "output_type": "execute_result"
    }
   ],
   "source": [
    "input_bigrams = get_ngrams(df.clean_input)\n",
    "print(len(input_bigrams))\n",
    "input_bigrams[:10]"
   ],
   "metadata": {
    "collapsed": false,
    "ExecuteTime": {
     "end_time": "2023-08-18T22:01:08.492227Z",
     "start_time": "2023-08-18T22:01:08.117641Z"
    }
   },
   "id": "4eb7dff6fd661feb"
  },
  {
   "cell_type": "code",
   "execution_count": 22,
   "outputs": [
    {
     "name": "stdout",
     "output_type": "stream",
     "text": [
      "167033\n"
     ]
    },
    {
     "data": {
      "text/plain": "[(('one', 'day'), 122),\n (('united', 'states'), 92),\n (('years', 'old'), 71),\n (('long', 'time'), 64),\n (('years', 'ago'), 58),\n (('old', 'man'), 52),\n (('could', 'see'), 50),\n (('many', 'people'), 49),\n (('every', 'day'), 47),\n (('th', 'century'), 46)]"
     },
     "execution_count": 22,
     "metadata": {},
     "output_type": "execute_result"
    }
   ],
   "source": [
    "llm_bigrams = get_ngrams(df.clean_llm)\n",
    "print(len(llm_bigrams))\n",
    "llm_bigrams[:10]"
   ],
   "metadata": {
    "collapsed": false,
    "ExecuteTime": {
     "end_time": "2023-08-18T22:01:08.756998200Z",
     "start_time": "2023-08-18T22:01:08.484702700Z"
    }
   },
   "id": "4688941a1c8bb162"
  },
  {
   "cell_type": "code",
   "execution_count": 23,
   "outputs": [
    {
     "name": "stdout",
     "output_type": "stream",
     "text": [
      "140233\n"
     ]
    },
    {
     "data": {
      "text/plain": "[(('united', 'states'), 174),\n (('one', 'day'), 144),\n (('long', 'time'), 109),\n (('large', 'number'), 94),\n (('young', 'people'), 90),\n (('great', 'deal'), 77),\n (('hard', 'time'), 71),\n (('years', 'old'), 69),\n (('years', 'ago'), 64),\n (('many', 'different'), 62)]"
     },
     "execution_count": 23,
     "metadata": {},
     "output_type": "execute_result"
    }
   ],
   "source": [
    "rlhf_bigrams = get_ngrams(df.clean_rlhf)\n",
    "print(len(rlhf_bigrams))\n",
    "rlhf_bigrams[:10]"
   ],
   "metadata": {
    "collapsed": false,
    "ExecuteTime": {
     "end_time": "2023-08-18T22:01:08.975396800Z",
     "start_time": "2023-08-18T22:01:08.752998700Z"
    }
   },
   "id": "b2c91a7fe6075d27"
  },
  {
   "cell_type": "code",
   "execution_count": 24,
   "outputs": [
    {
     "name": "stdout",
     "output_type": "stream",
     "text": [
      "244890\n"
     ]
    },
    {
     "data": {
      "text/plain": "[(('world', 'war', 'ii'), 17),\n (('long', 'time', 'ago'), 10),\n (('one', 'two', 'three'), 10),\n (('late', 'th', 'century'), 9),\n (('th', 'th', 'centuries'), 9),\n (('let', 'us', 'go'), 9),\n (('traumatic', 'brain', 'injury'), 9),\n (('million', 'years', 'ago'), 8),\n (('one', 'day', 'mother'), 7),\n (('old', 'man', 'said'), 7)]"
     },
     "execution_count": 24,
     "metadata": {},
     "output_type": "execute_result"
    }
   ],
   "source": [
    "input_trigrams = get_ngrams(df.clean_input, func='trigrams')\n",
    "print(len(input_trigrams))\n",
    "input_trigrams[:10]"
   ],
   "metadata": {
    "collapsed": false,
    "ExecuteTime": {
     "end_time": "2023-08-18T22:01:09.402930200Z",
     "start_time": "2023-08-18T22:01:09.235719900Z"
    }
   },
   "id": "2e112816a8e82087"
  },
  {
   "cell_type": "code",
   "execution_count": 25,
   "outputs": [
    {
     "name": "stdout",
     "output_type": "stream",
     "text": [
      "187247\n"
     ]
    },
    {
     "data": {
      "text/plain": "[(('world', 'war', 'ii'), 15),\n (('long', 'time', 'ago'), 10),\n (('seventytwo', 'years', 'old'), 8),\n (('united', 'states', 'america'), 7),\n (('million', 'years', 'ago'), 7),\n (('one', 'two', 'three'), 7),\n (('th', 'th', 'centuries'), 6),\n (('one', 'day', 'saw'), 6),\n (('late', 'th', 'century'), 6),\n (('seven', 'years', 'old'), 6)]"
     },
     "execution_count": 25,
     "metadata": {},
     "output_type": "execute_result"
    }
   ],
   "source": [
    "llm_trigrams = get_ngrams(df.clean_llm, func='trigrams')\n",
    "print(len(llm_trigrams))\n",
    "llm_trigrams[:10]"
   ],
   "metadata": {
    "collapsed": false,
    "ExecuteTime": {
     "end_time": "2023-08-18T22:01:09.683252800Z",
     "start_time": "2023-08-18T22:01:09.427896800Z"
    }
   },
   "id": "2faf586fea8b9b70"
  },
  {
   "cell_type": "code",
   "execution_count": 26,
   "outputs": [
    {
     "name": "stdout",
     "output_type": "stream",
     "text": [
      "168488\n"
     ]
    },
    {
     "data": {
      "text/plain": "[(('hard', 'time', 'getting'), 23),\n (('early', 'th', 'century'), 19),\n (('large', 'number', 'people'), 18),\n (('idea', 'idea', 'idea'), 16),\n (('young', 'people', 'returned'), 15),\n (('united', 'states', 'america'), 15),\n (('people', 'returned', 'ballroom'), 15),\n (('ballroom', 'different', 'appearance'), 14),\n (('returned', 'ballroom', 'different'), 14),\n (('world', 'war', 'ii'), 12)]"
     },
     "execution_count": 26,
     "metadata": {},
     "output_type": "execute_result"
    }
   ],
   "source": [
    "rlhf_trigrams = get_ngrams(df.clean_rlhf, func='trigrams')\n",
    "print(len(rlhf_trigrams))\n",
    "rlhf_trigrams[:10]"
   ],
   "metadata": {
    "collapsed": false,
    "ExecuteTime": {
     "end_time": "2023-08-18T22:01:09.918788400Z",
     "start_time": "2023-08-18T22:01:09.681252800Z"
    }
   },
   "id": "5cff20f07bac7cd9"
  },
  {
   "cell_type": "code",
   "execution_count": 27,
   "outputs": [],
   "source": [
    "def count_parts_of_speech_tags(df_column):\n",
    "    tokens = ' '.join(df_column).split()\n",
    "    return Counter([j for i,j in pos_tag(tokens)])"
   ],
   "metadata": {
    "collapsed": false,
    "ExecuteTime": {
     "end_time": "2023-08-18T22:01:09.936893700Z",
     "start_time": "2023-08-18T22:01:09.916562500Z"
    }
   },
   "id": "f41675eb10f40e8b"
  },
  {
   "cell_type": "code",
   "execution_count": 28,
   "outputs": [],
   "source": [
    "input_pos = count_parts_of_speech_tags(df.clean_input)\n",
    "llm_pos = count_parts_of_speech_tags(df.clean_llm)\n",
    "rlhf_pos = count_parts_of_speech_tags(df.clean_rlhf)\n"
   ],
   "metadata": {
    "collapsed": false,
    "ExecuteTime": {
     "end_time": "2023-08-18T22:01:36.398269800Z",
     "start_time": "2023-08-18T22:01:09.931890700Z"
    }
   },
   "id": "bf00d2d72a5faef"
  },
  {
   "cell_type": "code",
   "execution_count": 29,
   "outputs": [],
   "source": [
    "def show_pos_changes(inp, output):\n",
    "    res = dict()\n",
    "    for k in inp.keys():\n",
    "        res[k] = (output[k] / inp[k], abs(inp[k] - output[k]))\n",
    "    return res\n"
   ],
   "metadata": {
    "collapsed": false,
    "ExecuteTime": {
     "end_time": "2023-08-18T22:01:36.413291800Z",
     "start_time": "2023-08-18T22:01:36.399268900Z"
    }
   },
   "id": "231b2765c22294d0"
  },
  {
   "cell_type": "code",
   "execution_count": 30,
   "outputs": [
    {
     "data": {
      "text/plain": "{'JJ': (0.7514385553765354, 11879),\n 'NNS': (0.8102168581386343, 5881),\n 'VBD': (0.793516078017923, 3917),\n 'RB': (0.6621700879765395, 5760),\n 'VBN': (0.7525943396226416, 2098),\n 'NN': (0.7658538511139477, 17793),\n 'IN': (0.7363778910231282, 1345),\n 'VBZ': (0.7408916586768935, 1081),\n 'VBG': (0.7287860771808453, 2509),\n 'VBP': (0.8048298770087081, 2174),\n 'CD': (0.790058170280275, 794),\n 'MD': (0.7673325499412456, 792),\n 'VB': (0.7774113767518549, 1350),\n 'RP': (0.7289377289377289, 74),\n 'DT': (0.672665916760405, 291),\n 'JJR': (0.784629981024668, 227),\n 'RBR': (0.7750865051903114, 130),\n 'JJS': (0.7130528586839266, 266),\n 'FW': (0.642512077294686, 74),\n 'WDT': (0.8115942028985508, 13),\n 'WP$': (0.6538461538461539, 36),\n 'PRP': (0.7973856209150327, 93),\n 'WP': (0.7611940298507462, 16),\n 'CC': (0.5815217391304348, 77),\n 'NNP': (0.8455882352941176, 21),\n 'UH': (0.6451612903225806, 11),\n 'RBS': (0.52, 12),\n 'WRB': (0.975609756097561, 1),\n 'PRP$': (0.3076923076923077, 9),\n 'POS': (0.3333333333333333, 2),\n 'NNPS': (0.5, 1),\n 'EX': (0.42857142857142855, 4),\n '$': (0.0, 1),\n 'PDT': (0.0, 3),\n 'TO': (1.0, 0)}"
     },
     "execution_count": 30,
     "metadata": {},
     "output_type": "execute_result"
    }
   ],
   "source": [
    "show_pos_changes(input_pos, llm_pos) # Adverbs: RB"
   ],
   "metadata": {
    "collapsed": false,
    "ExecuteTime": {
     "end_time": "2023-08-18T22:01:36.459768500Z",
     "start_time": "2023-08-18T22:01:36.416291800Z"
    }
   },
   "id": "6c954ac7fdafc709"
  },
  {
   "cell_type": "code",
   "execution_count": 31,
   "outputs": [
    {
     "data": {
      "text/plain": "{'JJ': (0.7134606934360026, 13694),\n 'NNS': (0.7113721440557635, 8944),\n 'VBD': (0.686136004217185, 5954),\n 'RB': (0.5158357771260997, 8255),\n 'VBN': (0.6351415094339623, 3094),\n 'NN': (0.7323630429919332, 20338),\n 'IN': (0.5215601724813799, 2441),\n 'VBZ': (0.5630393096836049, 1823),\n 'VBG': (0.5688033726083667, 3989),\n 'VBP': (0.7561720082592692, 2716),\n 'CD': (0.9093072448439978, 343),\n 'MD': (0.681551116333725, 1084),\n 'VB': (0.7253091508656224, 1666),\n 'RP': (0.6666666666666666, 91),\n 'DT': (0.5174353205849269, 429),\n 'JJR': (0.6963946869070209, 320),\n 'RBR': (0.698961937716263, 174),\n 'JJS': (0.807982740021575, 178),\n 'FW': (0.6038647342995169, 82),\n 'WDT': (0.463768115942029, 37),\n 'WP$': (0.08653846153846154, 95),\n 'PRP': (0.39869281045751637, 276),\n 'WP': (0.5223880597014925, 32),\n 'CC': (0.42934782608695654, 105),\n 'NNP': (0.6029411764705882, 54),\n 'UH': (0.5161290322580645, 15),\n 'RBS': (1.32, 8),\n 'WRB': (0.24390243902439024, 31),\n 'PRP$': (0.15384615384615385, 11),\n 'POS': (0.6666666666666666, 1),\n 'NNPS': (0.0, 2),\n 'EX': (0.42857142857142855, 4),\n '$': (0.0, 1),\n 'PDT': (0.3333333333333333, 2),\n 'TO': (0.0, 1)}"
     },
     "execution_count": 31,
     "metadata": {},
     "output_type": "execute_result"
    }
   ],
   "source": [
    "show_pos_changes(input_pos, rlhf_pos) \n",
    "# past tense verb; preposition or conjunction, subordinating; verb, present tense, 3rd person singular;\n",
    "# verb, present participle or gerund; verb, past tense;"
   ],
   "metadata": {
    "collapsed": false,
    "ExecuteTime": {
     "end_time": "2023-08-18T22:01:36.471788600Z",
     "start_time": "2023-08-18T22:01:36.429802100Z"
    }
   },
   "id": "3138a99485b8bb95"
  },
  {
   "cell_type": "code",
   "execution_count": 32,
   "outputs": [],
   "source": [
    "def parse_training_data(obj):\n",
    "    accepted = []\n",
    "    for idx, record in enumerate(obj['dataset']):\n",
    "        accepted.append(record[str(idx)]['accepted'])\n",
    "    return { 'accepted': accepted }"
   ],
   "metadata": {
    "collapsed": false,
    "ExecuteTime": {
     "end_time": "2023-08-18T22:01:36.472788600Z",
     "start_time": "2023-08-18T22:01:36.446929600Z"
    }
   },
   "id": "abf431b6cc617872"
  },
  {
   "cell_type": "code",
   "execution_count": 33,
   "outputs": [
    {
     "name": "stdout",
     "output_type": "stream",
     "text": [
      "23.53% acceptance of generated rewrite, using falcon-7b model\n"
     ]
    }
   ],
   "source": [
    "sft_file = open('./data/sentence_sft_second_dataset.json', 'r')\n",
    "sft_json = json.load(sft_file)\n",
    "sft_obj = parse_training_data(sft_json)\n",
    "sft_df = pd.DataFrame(sft_obj)\n",
    "sft_vc = sft_df.value_counts()\n",
    "print(f'{sft_vc[1] / sum(sft_vc) * 100:.2f}% acceptance of generated rewrite, using falcon-7b model')"
   ],
   "metadata": {
    "collapsed": false,
    "ExecuteTime": {
     "end_time": "2023-08-18T22:01:36.623460200Z",
     "start_time": "2023-08-18T22:01:36.462768200Z"
    }
   },
   "id": "27aadbbf8025122f"
  },
  {
   "cell_type": "code",
   "execution_count": 34,
   "outputs": [
    {
     "name": "stdout",
     "output_type": "stream",
     "text": [
      "30.79% acceptance of generated rewrite, using rlhf tuned opt-1.3b model\n"
     ]
    }
   ],
   "source": [
    "rw_file = open('./data/sentence_sft_rlhf_dataset.json', 'r')\n",
    "rw_json = json.load(rw_file)\n",
    "rw_obj = parse_training_data(rw_json)\n",
    "rw_df = pd.DataFrame(rw_obj)\n",
    "rw_vc = rw_df.value_counts()\n",
    "print(f'{rw_vc[1] / sum(rw_vc) * 100:.2f}% acceptance of generated rewrite, using rlhf tuned opt-1.3b model')\n"
   ],
   "metadata": {
    "collapsed": false,
    "ExecuteTime": {
     "end_time": "2023-08-18T22:01:36.806253300Z",
     "start_time": "2023-08-18T22:01:36.618952600Z"
    }
   },
   "id": "f8a7d27e48ec09dc"
  },
  {
   "cell_type": "code",
   "execution_count": 35,
   "outputs": [
    {
     "name": "stdout",
     "output_type": "stream",
     "text": [
      "36.09% acceptance of generated rewrite, using prompt engineered context on falcon-7b model\n"
     ]
    }
   ],
   "source": [
    "ctx_file = open('./data/sentence_sft_dataset.json', 'r')\n",
    "ctx_json = json.load(ctx_file)\n",
    "ctx_obj = parse_training_data(ctx_json)\n",
    "ctx_df = pd.DataFrame(ctx_obj)\n",
    "ctx_vc = ctx_df.value_counts()\n",
    "print(f'{ctx_vc[1] / sum(ctx_vc) * 100:.2f}% acceptance of generated rewrite, using prompt engineered context on falcon-7b model')"
   ],
   "metadata": {
    "collapsed": false,
    "ExecuteTime": {
     "end_time": "2023-08-18T22:01:36.993762Z",
     "start_time": "2023-08-18T22:01:36.808253100Z"
    }
   },
   "id": "3ace47f6c5037bb8"
  },
  {
   "cell_type": "code",
   "execution_count": 35,
   "outputs": [],
   "source": [],
   "metadata": {
    "collapsed": false,
    "ExecuteTime": {
     "end_time": "2023-08-18T22:01:37.038524400Z",
     "start_time": "2023-08-18T22:01:36.993762Z"
    }
   },
   "id": "e11f609d3a8713ad"
  }
 ],
 "metadata": {
  "kernelspec": {
   "display_name": "Python 3",
   "language": "python",
   "name": "python3"
  },
  "language_info": {
   "codemirror_mode": {
    "name": "ipython",
    "version": 2
   },
   "file_extension": ".py",
   "mimetype": "text/x-python",
   "name": "python",
   "nbconvert_exporter": "python",
   "pygments_lexer": "ipython2",
   "version": "2.7.6"
  }
 },
 "nbformat": 4,
 "nbformat_minor": 5
}
